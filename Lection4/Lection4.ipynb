{
 "cells": [
  {
   "cell_type": "markdown",
   "id": "2b913df9-1264-4ad6-9580-7add824fc4f9",
   "metadata": {},
   "source": [
    "# **Лекция 4: функции и методы**\n",
    "\n",
    "## **План лекции**\n",
    "\n",
    "- Обсуждение плана лекции\n",
    "- Форматирование строк: `f`-строки и `.format()`\n",
    "- Считывание файлов в `python`\n",
    "- Разные режими считывания файлов\n",
    "    - Вопросы?\n",
    "- Словари\n",
    "- Методы словарей\n",
    "    - Вопросы?\n",
    "- Кортежи\n",
    "    - Вопросы?\n"
   ]
  },
  {
   "cell_type": "markdown",
   "id": "53be822e-6fba-4edf-adb9-0246cb397dc4",
   "metadata": {},
   "source": [
    "## **Более крутой способ форматировать строки**\n",
    "\n",
    "Вам не казалось что складывание строк через:\n",
    "``` python\n",
    "'Сегодня ' + str(degrees) + ' градусов по Цельсию' \n",
    "```\n",
    "немного громоздким? Это правда, и можно делать это более элегантно сразу тремя разными способами.\n",
    "\n",
    "### `f`-строки\n",
    "\n",
    "Добавив к строке до е начала `f` можно вставлять туда числовые значения:"
   ]
  },
  {
   "cell_type": "code",
   "execution_count": 3,
   "id": "8f4d5e51-bf5a-4966-8eae-b73c555cb93f",
   "metadata": {},
   "outputs": [
    {
     "name": "stdout",
     "output_type": "stream",
     "text": [
      "Сегодня в Москве 24.2 градуса по Цельсию\n"
     ]
    }
   ],
   "source": [
    "degrees = 24.2\n",
    "message = f'Сегодня в Москве {degrees} градуса по Цельсию' \n",
    "\n",
    "print(message)"
   ]
  },
  {
   "cell_type": "markdown",
   "id": "2a064bba-2487-4ae0-9945-65c6a526fffe",
   "metadata": {},
   "source": [
    "<p>\n",
    "<details>\n",
    "<summary> ☝ ✨ <u> f-строки можно использовать для нахождения багов </u> </summary>\n",
    "\n",
    "Можно выводить сразу с выражением `=` в процессе, и наиболее всего такая форма удобная для нахождения багов в коде, так как позволяет подсвечивать сразу названия переменных:\n",
    "\n",
    "``` python\n",
    "name = 'SCP-173'\n",
    "count = 13\n",
    "object_class = 'Euclid'\n",
    "print(f'Объект {name=} класса {object_class=} нарушал условия содержания {count=} раз')\n",
    "```\n",
    "> `Объект name='SCP-173' класса object_class='Euclid' нарушал условия содержания count=13`\n",
    "</details>\n",
    "</p>"
   ]
  },
  {
   "cell_type": "markdown",
   "id": "06389f07-cde3-4483-9083-c4cf42bcb608",
   "metadata": {},
   "source": [
    "### Метод `.format()`\n",
    "\n",
    "Очень похожий способ, проще всего проиллюстрировать его примером:"
   ]
  },
  {
   "cell_type": "code",
   "execution_count": 6,
   "id": "da1c3cd9-998b-40f7-93a0-2140021ed4d6",
   "metadata": {},
   "outputs": [
    {
     "name": "stdout",
     "output_type": "stream",
     "text": [
      "Биба и Боба\n"
     ]
    }
   ],
   "source": [
    "print('{person1} и {person2}'.format(person1='Биба', person2='Боба'))"
   ]
  },
  {
   "cell_type": "markdown",
   "id": "f8a1b33c-c073-4511-92a3-b7829351cb0f",
   "metadata": {},
   "source": [
    "Большой разницы в этих способах нету, можно спокойно использовать и то и то."
   ]
  },
  {
   "cell_type": "markdown",
   "id": "e3b7c7c4-37cd-4a38-9a61-8fbca368ef76",
   "metadata": {},
   "source": [
    "### Через оператор `%`\n",
    "\n",
    "Раньше основным способом был:"
   ]
  },
  {
   "cell_type": "code",
   "execution_count": 33,
   "id": "7d65c038-d276-4cf8-8165-9ebc845ca0cf",
   "metadata": {},
   "outputs": [
    {
     "name": "stdout",
     "output_type": "stream",
     "text": [
      "Значения числа π примерно равно 3.142.\n"
     ]
    }
   ],
   "source": [
    "pi = 3.141592653589793 # и так далее\n",
    "\n",
    "print('Значения числа π примерно равно %5.3f.' % pi)"
   ]
  },
  {
   "cell_type": "markdown",
   "id": "36348142-c321-4f4a-bcad-f44c42e06ae8",
   "metadata": {},
   "source": [
    "Но сейчас его почти не используют, чтобы не путать с оператором остатка от деления, да `f`-строки просто более читаемые."
   ]
  },
  {
   "cell_type": "markdown",
   "id": "1480cea3-a082-4b8e-9ee5-0d2781b1f9f5",
   "metadata": {},
   "source": [
    "<p>\n",
    "<details>\n",
    "<summary> ☝ ✨ <u> Что за 5.3f? </u> </summary>\n",
    "\n",
    "Это формативанный вывод (или ввод). Раньше, в низкоуровневых языках (`C` или `FORTRAN`) вывод мог быть только с указанием типа переменной (`f` - float) и длиной поля. Первое число до (5) означает полное количество знаков, которое будет занято выводом числа, а второе число (3) означает число выведенных знаков после запятой. \n",
    "\n",
    "Может показаться, что это уже очень устаревшая форма записи, однако иногда данные записаны именно в таком виде: они не разделяются запятыми или пробелами, а имеют фиксированную длину поля. Зато, зная форму записи, можно всегда легко прочитать данные и не ошибиться!\n",
    "\n",
    "</details>\n",
    "</p>"
   ]
  },
  {
   "cell_type": "markdown",
   "id": "61c0e588-de04-4bd8-93b4-bde7d41d5c4b",
   "metadata": {},
   "source": [
    "# **Считывание файлов в python**\n",
    "\n",
    "До этого мы хранили всю информацию в строчках кода. В реальности, все данные всегда хранятся в файлах! Давайте разберем как их считывать и что с ним делать.\n",
    "\n",
    "Простейший способ открытия текстового файла выглядит так: "
   ]
  },
  {
   "cell_type": "code",
   "execution_count": 16,
   "id": "37e1cdcc-3a31-41f5-9de4-eb39f3af8ff4",
   "metadata": {},
   "outputs": [
    {
     "name": "stdout",
     "output_type": "stream",
     "text": [
      "Moscow 55.7558 37.6178\n",
      "SaintPetersburg 59.9500 30.3167\n",
      "Novosibirsk 55.0333 82.9167\n",
      "Yekaterinburg 56.8356 60.6128\n",
      "NizhniyNovgorod 56.3269 44.0075\n",
      "Kazan 55.7964 49.1089\n",
      "Chelyabinsk 55.1500 61.4000\n",
      "Omsk 54.9667 73.3833\n",
      "Samara 53.2028 50.1408\n",
      "Rostov 47.2333 39.7000\n",
      "Ufa 54.7261 55.9475\n",
      "Krasnoyarsk 56.0089 92.8719\n",
      "Voronezh 51.6717 39.2106\n",
      "Perm 58.0139 56.2489\n",
      "Volgograd 48.7086 44.5147\n",
      "\n"
     ]
    }
   ],
   "source": [
    "f = open('data/russian_cities.txt')\n",
    "russian_cities = f.read()\n",
    "f.close()\n",
    "\n",
    "print(russian_cities) # данные с координатами Российских городов"
   ]
  },
  {
   "cell_type": "markdown",
   "id": "f2c7d6a0-9c01-4ce9-a57d-7042191742ae",
   "metadata": {},
   "source": [
    "Каждый раз открывая файл мы создаем специальную переменную *файлового потока*. После использования файла, эту переменную нужно закрыть, иначе могут возникнуть [разные неприятные последствия](https://stackoverflow.com/questions/25070854/why-should-i-close-files-in-python). Часть люди забывают закрывать файл, да и выглядит это не очень читаемо, поэтому была придумана следующая схема:"
   ]
  },
  {
   "cell_type": "code",
   "execution_count": 17,
   "id": "3b582e95-644c-45e3-a0d2-86a157ea90fe",
   "metadata": {},
   "outputs": [
    {
     "name": "stdout",
     "output_type": "stream",
     "text": [
      "Moscow 55.7558 37.6178\n",
      "SaintPetersburg 59.9500 30.3167\n",
      "Novosibirsk 55.0333 82.9167\n",
      "Yekaterinburg 56.8356 60.6128\n",
      "NizhniyNovgorod 56.3269 44.0075\n",
      "Kazan 55.7964 49.1089\n",
      "Chelyabinsk 55.1500 61.4000\n",
      "Omsk 54.9667 73.3833\n",
      "Samara 53.2028 50.1408\n",
      "Rostov 47.2333 39.7000\n",
      "Ufa 54.7261 55.9475\n",
      "Krasnoyarsk 56.0089 92.8719\n",
      "Voronezh 51.6717 39.2106\n",
      "Perm 58.0139 56.2489\n",
      "Volgograd 48.7086 44.5147\n",
      "\n"
     ]
    }
   ],
   "source": [
    "with open('data/russian_cities.txt') as f:\n",
    "    russian_cities = f.read()\n",
    "\n",
    "print(russian_cities) # данные с координатами Российских городов"
   ]
  },
  {
   "cell_type": "markdown",
   "id": "ffee1319-eefb-45b9-bbc0-af9d32ff924b",
   "metadata": {},
   "source": [
    "Она закрывает файл сразу же окончания отступа.\n",
    "\n",
    "> ☝ Строго говоря, ключевое слово `with` используется и для [других целей](https://stackoverflow.com/questions/3012488/what-is-the-python-with-statement-designed-for), но в абсолютном большинстве случаев его используют именно для открытия/закрытия файлов."
   ]
  },
  {
   "cell_type": "markdown",
   "id": "c78cd821-737e-48e8-9f3f-b79eff1401ae",
   "metadata": {},
   "source": [
    "Теперь посмотрим на разные методы для считывания файлов:\n",
    "- `.read()` считывает файл полностью в виде строки\n",
    "- `.readline()` считывает только одну строку и сохраняет положение курсора: если вызвать еще раз, то считает уже следующую строку\n",
    "- `.readlines()` считывает все строки и записывает в массив: каждый элемент массива это новая строка "
   ]
  },
  {
   "cell_type": "code",
   "execution_count": 34,
   "id": "e9c87f31-af54-4e6b-a18d-ffc4c176199d",
   "metadata": {},
   "outputs": [
    {
     "name": "stdout",
     "output_type": "stream",
     "text": [
      "['Moscow 55.7558 37.6178\\n', 'SaintPetersburg 59.9500 30.3167\\n', 'Novosibirsk 55.0333 82.9167\\n', 'Yekaterinburg 56.8356 60.6128\\n', 'NizhniyNovgorod 56.3269 44.0075\\n', 'Kazan 55.7964 49.1089\\n', 'Chelyabinsk 55.1500 61.4000\\n', 'Omsk 54.9667 73.3833\\n', 'Samara 53.2028 50.1408\\n', 'Rostov 47.2333 39.7000\\n', 'Ufa 54.7261 55.9475\\n', 'Krasnoyarsk 56.0089 92.8719\\n', 'Voronezh 51.6717 39.2106\\n', 'Perm 58.0139 56.2489\\n', 'Volgograd 48.7086 44.5147\\n']\n"
     ]
    }
   ],
   "source": [
    "with open('data/russian_cities.txt') as f:\n",
    "    russian_cities = f.readlines()\n",
    "\n",
    "print(russian_cities) "
   ]
  },
  {
   "cell_type": "markdown",
   "id": "71d80b27-b0f7-4500-93d1-a5a45a99ff6c",
   "metadata": {},
   "source": [
    "> ☝ Символ `\\n` обозначает начало новой строки, а сам механизм разделения строк может работать немного по разному на разных системах\n",
    "\n",
    "При желании, мы можем сделать (почти) то же самое с помощью:"
   ]
  },
  {
   "cell_type": "code",
   "execution_count": 36,
   "id": "a986bc32-650d-4c64-bfb3-295d461d706b",
   "metadata": {},
   "outputs": [
    {
     "name": "stdout",
     "output_type": "stream",
     "text": [
      "['Moscow 55.7558 37.6178', 'SaintPetersburg 59.9500 30.3167', 'Novosibirsk 55.0333 82.9167', 'Yekaterinburg 56.8356 60.6128', 'NizhniyNovgorod 56.3269 44.0075', 'Kazan 55.7964 49.1089', 'Chelyabinsk 55.1500 61.4000', 'Omsk 54.9667 73.3833', 'Samara 53.2028 50.1408', 'Rostov 47.2333 39.7000', 'Ufa 54.7261 55.9475', 'Krasnoyarsk 56.0089 92.8719', 'Voronezh 51.6717 39.2106', 'Perm 58.0139 56.2489', 'Volgograd 48.7086 44.5147', '']\n"
     ]
    }
   ],
   "source": [
    "with open('data/russian_cities.txt') as f:\n",
    "    russian_cities = f.read()\n",
    "    russian_cities_lines = russian_cities.split('\\n')\n",
    "\n",
    "print(russian_cities_lines) "
   ]
  },
  {
   "cell_type": "markdown",
   "id": "4e19d869-c8fb-4235-bdcd-5ba17dd0cf32",
   "metadata": {},
   "source": [
    "### Запись в файлы\n",
    "\n",
    "Для того, чтобы записывать строчки в файл, нужно использовать другой режим:"
   ]
  },
  {
   "cell_type": "code",
   "execution_count": 41,
   "id": "4e02a541-4d04-4227-9329-f396df914b15",
   "metadata": {},
   "outputs": [
    {
     "name": "stdout",
     "output_type": "stream",
     "text": [
      "Moscow 55.7558 37.6178\n",
      "SaintPetersburg 59.9500 30.3167\n",
      "Novosibirsk 55.0333 82.9167\n",
      "Yekaterinburg 56.8356 60.6128\n",
      "NizhniyNovgorod 56.3269 44.0075\n",
      "Kazan 55.7964 49.1089\n",
      "Chelyabinsk 55.1500 61.4000\n",
      "Omsk 54.9667 73.3833\n",
      "Samara 53.2028 50.1408\n",
      "Rostov 47.2333 39.7000\n",
      "Ufa 54.7261 55.9475\n",
      "Krasnoyarsk 56.0089 92.8719\n",
      "Voronezh 51.6717 39.2106\n",
      "Perm 58.0139 56.2489\n",
      "Volgograd 48.7086 44.5147\n"
     ]
    }
   ],
   "source": [
    "with open('data/duplicate_cities.txt', mode='w') as f:\n",
    "    f.write(russian_cities)\n",
    "\n",
    "%cat data/duplicate_cities.txt # лайфхак для вывода (может не работать на Windows)"
   ]
  },
  {
   "cell_type": "markdown",
   "id": "0f199ef1-c869-445c-996b-8db4c97f5dfa",
   "metadata": {},
   "source": [
    "В целом, все очень похоже:\n",
    "- `.write()` запишет всю строку в текстовый файл\n",
    "- `.writelines()` запишет список из строк построчно в файл"
   ]
  },
  {
   "cell_type": "markdown",
   "id": "b308ebc8-8854-45c9-afb8-bd4af41bdc01",
   "metadata": {},
   "source": [
    "# **Вопросы?**"
   ]
  },
  {
   "cell_type": "markdown",
   "id": "43db7f76-fbcd-4520-804f-35e2e783d522",
   "metadata": {},
   "source": [
    "# **Словари**\n",
    "\n",
    "Словари это особая форма хранения данных: для доступа к ячейке используются не индекс, а любая строка (*ключ*). Словари проще всего создавать через фигурные скобки. Посмотрим на [пример](https://dtf.ru/life/838343-segodnya-svoj-52-oj-den-rozhdeniya-otmechaet-lshtshfum-ashf):"
   ]
  },
  {
   "cell_type": "code",
   "execution_count": 47,
   "id": "aa3f2356-21b3-4223-99f4-5192f428f2cd",
   "metadata": {},
   "outputs": [
    {
     "name": "stdout",
     "output_type": "stream",
     "text": [
      "{'Фамилия': 'Лштшфум', 'Имя': 'Ащьф', 'Дата рождения': '21.08.1969', 'Пол': 'М'}\n"
     ]
    }
   ],
   "source": [
    "jason_borne = {'Фамилия': 'Лштшфум', 'Имя': 'Ащьф', 'Дата рождения': '21.08.1969', 'Пол': 'М'}\n",
    "\n",
    "print(jason_borne)"
   ]
  },
  {
   "cell_type": "markdown",
   "id": "1523e368-5771-4c87-83a5-98a7dbdf059d",
   "metadata": {},
   "source": [
    "Для доступа к значениям нужно использовать квадратные скобки, как и в списках:"
   ]
  },
  {
   "cell_type": "code",
   "execution_count": 48,
   "id": "739777c9-d88f-4928-b081-da76c7fc1209",
   "metadata": {},
   "outputs": [
    {
     "name": "stdout",
     "output_type": "stream",
     "text": [
      "Ащьф Лштшфум\n"
     ]
    }
   ],
   "source": [
    "print(jason_borne['Имя'], jason_borne['Фамилия'])"
   ]
  },
  {
   "cell_type": "markdown",
   "id": "74e0072b-e293-4d58-8f3f-b5535971536a",
   "metadata": {},
   "source": [
    "Добавление элемента в словарь очень просто работает:"
   ]
  },
  {
   "cell_type": "code",
   "execution_count": 49,
   "id": "0b5f8bad-a686-4632-b282-796d4d2f2870",
   "metadata": {},
   "outputs": [],
   "source": [
    "jason_borne['Место рождения'] = 'Moscou'"
   ]
  },
  {
   "cell_type": "markdown",
   "id": "42664e3c-32f1-430c-ab85-80dc4d06c9f8",
   "metadata": {},
   "source": [
    "Для упрощения работы с ними полезно знать несколько методов:\n",
    "- `.keys()` возвращает список ключей\n",
    "- `.values()` возвращает список значений"
   ]
  },
  {
   "cell_type": "code",
   "execution_count": 52,
   "id": "c76ee91c-0a95-46f8-9821-a46e8de777a0",
   "metadata": {},
   "outputs": [
    {
     "name": "stdout",
     "output_type": "stream",
     "text": [
      "Ключи в нашем словаре: dict_keys(['Фамилия', 'Имя', 'Дата рождения', 'Пол', 'Место рождения'])\n",
      "Значения в нашем словаре: dict_values(['Лштшфум', 'Ащьф', '21.08.1969', 'М', 'Moscou'])\n"
     ]
    }
   ],
   "source": [
    "print('Ключи в нашем словаре:', jason_borne.keys())\n",
    "print('Значения в нашем словаре:', jason_borne.values())"
   ]
  },
  {
   "cell_type": "markdown",
   "id": "492ad51c-176d-4f63-9499-75f90a9842cf",
   "metadata": {},
   "source": [
    "Мы можем индексировать ключи в циклах так же, как и списки:"
   ]
  },
  {
   "cell_type": "code",
   "execution_count": 56,
   "id": "0ea96581-b3bb-42ba-a91c-ecf301867322",
   "metadata": {},
   "outputs": [
    {
     "name": "stdout",
     "output_type": "stream",
     "text": [
      "Значение по ключу Фамилия равно Лштшфум\n",
      "Значение по ключу Имя равно Ащьф\n",
      "Значение по ключу Дата рождения равно 21.08.1969\n",
      "Значение по ключу Пол равно М\n",
      "Значение по ключу Место рождения равно Moscou\n"
     ]
    }
   ],
   "source": [
    "for key in jason_borne.keys():\n",
    "    print(f'Значение по ключу {key} равно {jason_borne[key]}')"
   ]
  },
  {
   "cell_type": "markdown",
   "id": "c644cc21-f5ae-4734-8271-47815ffeebf4",
   "metadata": {},
   "source": [
    "> ☝ Мы не часто будем встречаться со словарями напрямую, но часто они используются с библиотеках с которыми мы будем работать. Также, очень удобно парсить большие массивы данных в словари, где каждый ключ отвечает за каждую переменную."
   ]
  },
  {
   "cell_type": "markdown",
   "id": "562075da-240c-4632-a253-e89f59023496",
   "metadata": {},
   "source": [
    "# **Вопросы?**"
   ]
  },
  {
   "cell_type": "markdown",
   "id": "0d8dfaa8-e6f7-4b55-911c-834ea3771f44",
   "metadata": {},
   "source": [
    "Можно использовать и другой метод:"
   ]
  },
  {
   "cell_type": "code",
   "execution_count": 58,
   "id": "8d503609-58d5-40cc-9a71-08e74a57e1ad",
   "metadata": {},
   "outputs": [
    {
     "name": "stdout",
     "output_type": "stream",
     "text": [
      "Значение по ключу Фамилия равно Лштшфум\n",
      "Значение по ключу Имя равно Ащьф\n",
      "Значение по ключу Дата рождения равно 21.08.1969\n",
      "Значение по ключу Пол равно М\n",
      "Значение по ключу Место рождения равно Moscou\n"
     ]
    }
   ],
   "source": [
    "for key, value in jason_borne.items():\n",
    "    print(f'Значение по ключу {key} равно {value}')"
   ]
  },
  {
   "cell_type": "markdown",
   "id": "6fdc0598-29f6-45d8-a1eb-86e0fc8852c7",
   "metadata": {},
   "source": [
    "А что находится внутри `jason_borne.items()`?"
   ]
  },
  {
   "cell_type": "code",
   "execution_count": 60,
   "id": "44fb34ec-c5f4-4fe4-a218-39296bf000ba",
   "metadata": {},
   "outputs": [
    {
     "data": {
      "text/plain": [
       "[('Фамилия', 'Лштшфум'),\n",
       " ('Имя', 'Ащьф'),\n",
       " ('Дата рождения', '21.08.1969'),\n",
       " ('Пол', 'М'),\n",
       " ('Место рождения', 'Moscou')]"
      ]
     },
     "execution_count": 60,
     "metadata": {},
     "output_type": "execute_result"
    }
   ],
   "source": [
    "list(jason_borne.items())"
   ]
  },
  {
   "cell_type": "markdown",
   "id": "c5d23115-2ff6-46ee-b811-d2571944bf7a",
   "metadata": {},
   "source": [
    "Тип данных заключенный в скобки называется *кортежами*."
   ]
  },
  {
   "cell_type": "markdown",
   "id": "bd13e49b-4dff-4519-aab9-1df2daf90210",
   "metadata": {},
   "source": [
    "## **Кортежи**\n",
    "\n",
    "Кортежи (*tuples*) очень похожи на списки, но их нельзя изменять. Например:"
   ]
  },
  {
   "cell_type": "code",
   "execution_count": 65,
   "id": "276fbe8c-e51c-44dd-94ae-ebf6a523a56f",
   "metadata": {},
   "outputs": [
    {
     "data": {
      "text/plain": [
       "('Moscow',\n",
       " 'SaintPetersburg',\n",
       " 'Novosibirsk',\n",
       " 'Yekaterinburg',\n",
       " 'NizhniyNovgorod',\n",
       " 'Kazan',\n",
       " 'Chelyabinsk',\n",
       " 'Omsk',\n",
       " 'Samara',\n",
       " 'Rostov',\n",
       " 'Ufa',\n",
       " 'Krasnoyarsk',\n",
       " 'Voronezh',\n",
       " 'Perm',\n",
       " 'Volgograd')"
      ]
     },
     "execution_count": 65,
     "metadata": {},
     "output_type": "execute_result"
    }
   ],
   "source": [
    "cities_names = tuple([element.split(' ')[0] for element in russian_cities_lines][:-1]) # сгенировали список городов\n",
    "cities_names"
   ]
  },
  {
   "cell_type": "code",
   "execution_count": 67,
   "id": "25c722a8-ba4e-4d22-a507-92f8d283c5c2",
   "metadata": {},
   "outputs": [
    {
     "ename": "TypeError",
     "evalue": "'tuple' object does not support item assignment",
     "output_type": "error",
     "traceback": [
      "\u001b[0;31m---------------------------------------------------------------------------\u001b[0m",
      "\u001b[0;31mTypeError\u001b[0m                                 Traceback (most recent call last)",
      "Cell \u001b[0;32mIn[67], line 1\u001b[0m\n\u001b[0;32m----> 1\u001b[0m cities_names[\u001b[38;5;241m0\u001b[39m] \u001b[38;5;241m=\u001b[39m \u001b[38;5;124m'\u001b[39m\u001b[38;5;124mМосква\u001b[39m\u001b[38;5;124m'\u001b[39m\n",
      "\u001b[0;31mTypeError\u001b[0m: 'tuple' object does not support item assignment"
     ]
    }
   ],
   "source": [
    "cities_names[0] = 'Москва'"
   ]
  },
  {
   "cell_type": "markdown",
   "id": "a055a397-e2e9-41b3-9bd6-2838f8d7f0b0",
   "metadata": {},
   "source": [
    "Зачем нужны *кортежи*, если они напрямую хуже списков? Потому что они более эффективно используются в вычисление, и это сделано для оптимизации внутренних процессов. Если у вас нет четкого понимания, что конкретно вы хотите сделать, **никогда не используйте кортежи в вашем коде**. "
   ]
  },
  {
   "cell_type": "markdown",
   "id": "422fc300-57b4-4823-abfb-44e804a27305",
   "metadata": {},
   "source": [
    "<p>\n",
    "<details>\n",
    "<summary> ☝ ✨✨ <u> Как проверить насколько кортежи быстрее? </u> </summary>\n",
    "\n",
    "Как описано в [этом ответе](https://stackoverflow.com/questions/2174124/why-do-we-need-tuples-in-python-or-any-immutable-data-type), можно проверить замерив скорость выполнения кода с помощью встроенных команд `ipython`. Сделайте две новых ячейки, в одну из них напишите:\n",
    "``` python\n",
    "python -mtimeit '[\"fee\", \"fie\", \"fo\", \"fum\"]'\n",
    "```\n",
    "А в другую:\n",
    "``` python\n",
    "python -mtimeit '(\"fee\", \"fie\", \"fo\", \"fum\")'\n",
    "```\n",
    "В зависимости от процессора и системы, результаты будут разными, но можно ожидать следующее:\n",
    "`1000000 loops, best of 3: 0.432 usec per loop` для первого случая, и `10000000 loops, best of 3: 0.0563 usec per loop` для второго.\n",
    "\n",
    "</details>\n",
    "</p>"
   ]
  }
 ],
 "metadata": {
  "kernelspec": {
   "display_name": "Python 3 (ipykernel)",
   "language": "python",
   "name": "python3"
  },
  "language_info": {
   "codemirror_mode": {
    "name": "ipython",
    "version": 3
   },
   "file_extension": ".py",
   "mimetype": "text/x-python",
   "name": "python",
   "nbconvert_exporter": "python",
   "pygments_lexer": "ipython3",
   "version": "3.10.13"
  }
 },
 "nbformat": 4,
 "nbformat_minor": 5
}
