{
 "cells": [
  {
   "cell_type": "markdown",
   "id": "2fc5643d-8eaf-4d23-99c6-50507c359144",
   "metadata": {},
   "source": [
    "# **Практическое занятие 3: методично функционируем**\n",
    "\n",
    "## **План семинара**\n",
    "\n",
    "- Как будет устроено занятие?\n",
    "- Чего мы хотим добиться сегодня?\n",
    "- Тезисно вспоминаем основные понятия с лекции\n",
    "    - Вопросы?\n",
    "- Расходимся по комнатам и решаем задания\n",
    "- Подводим итоги"
   ]
  },
  {
   "cell_type": "markdown",
   "id": "921bb7e0-d757-4ad4-9b14-10f7b4bba79e",
   "metadata": {},
   "source": [
    "## **Основные понятия с лекции**\n",
    "\n",
    "## **Вложенные списки**\n",
    "\n",
    "Элементами списков могут быть другие списки, такие списки называются вложенными. Например, вот так будет выглядеть таблица умножения от 4 до 4:"
   ]
  },
  {
   "cell_type": "code",
   "execution_count": 55,
   "id": "b4d34a91-e623-4029-ac7d-8d70291d14b9",
   "metadata": {},
   "outputs": [
    {
     "data": {
      "text/plain": [
       "[[1, 2, 3, 4], [2, 4, 6, 8], [3, 6, 9, 12], [4, 8, 12, 16]]"
      ]
     },
     "execution_count": 55,
     "metadata": {},
     "output_type": "execute_result"
    }
   ],
   "source": [
    "table = [[1, 2, 3, 4],\n",
    "         [2, 4, 6, 8],\n",
    "         [3, 6, 9, 12],\n",
    "         [4, 8, 12, 16]]\n",
    "table"
   ]
  },
  {
   "cell_type": "markdown",
   "id": "b64e1fa6-8d6e-4637-8f1f-8d66fe203c00",
   "metadata": {},
   "source": [
    "## **Функции**\n",
    "\n",
    "Функции можно описать следующей схемой:\n",
    "![](pictures/1.jpg)\n",
    "\n",
    "Примеры функций:\n",
    "- `type()` &ndash; возвращает тип переменной\n",
    "- `str()` &ndash; конвертирует переменную в строку\n",
    "- `int()` &ndash; конвертирует переменную в `integer`\n",
    "\n",
    "Примеры использования:"
   ]
  },
  {
   "cell_type": "code",
   "execution_count": 2,
   "id": "0e8faf3d-c37f-483f-8461-01b188d3579e",
   "metadata": {},
   "outputs": [
    {
     "name": "stdout",
     "output_type": "stream",
     "text": [
      "<class 'int'> <class 'float'> <class 'str'>\n"
     ]
    }
   ],
   "source": [
    "a = 1\n",
    "b = 1.0\n",
    "c = 'Hello world!'\n",
    "\n",
    "type_a = type(a)\n",
    "type_b = type(b)\n",
    "type_c = type(c)\n",
    "\n",
    "print(type_a, type_b, type_c)"
   ]
  },
  {
   "cell_type": "markdown",
   "id": "4709a5eb-3687-4dc3-8fe6-c0917aeb9774",
   "metadata": {},
   "source": [
    "### Функции для списков и строк\n",
    "\n",
    "- `sorted`: возвращает уже отсортированный список\n",
    "- `len`: возвращает длину списка\n",
    "- `max`: возвращает максимальный элемент списка\n",
    "- `min`: возвращает минимальный элемент списка \n",
    "\n",
    "С помощью `len` мы можем спокойно проходиться по индексам списка:"
   ]
  },
  {
   "cell_type": "code",
   "execution_count": 3,
   "id": "4fc29c20-e149-4cf9-ad99-8181e05bebd0",
   "metadata": {},
   "outputs": [
    {
     "name": "stdout",
     "output_type": "stream",
     "text": [
      "Список l: [3, 6.4, 10, 1, -20, 7.5, 0.3333333333333333]\n",
      "Длина списка l: 7\n",
      "3\n",
      "6.4\n",
      "10\n",
      "1\n",
      "-20\n",
      "7.5\n",
      "0.3333333333333333\n"
     ]
    }
   ],
   "source": [
    "l = [3, 6.4, 10, 1, -20, 30/4, 1/3]\n",
    "len_l = len(l)\n",
    "\n",
    "print('Список l:', l)\n",
    "print('Длина списка l:', len_l)\n",
    "\n",
    "for i in range(len(l)):\n",
    "    print(l[i])"
   ]
  },
  {
   "cell_type": "markdown",
   "id": "2a5a78bb-1c18-4369-bb87-7ec2e3cda8cb",
   "metadata": {},
   "source": [
    "У функций бывают опциональные аргументы, например:"
   ]
  },
  {
   "cell_type": "code",
   "execution_count": 4,
   "id": "46c84f50-6c15-43e8-b93a-a08c95a42a54",
   "metadata": {},
   "outputs": [
    {
     "name": "stdout",
     "output_type": "stream",
     "text": [
      "Отсортированный список: [-20, 0.3333333333333333, 1, 3, 6.4, 7.5, 10]\n",
      "Список отсортированный в обратном порядке: [10, 7.5, 6.4, 3, 1, 0.3333333333333333, -20]\n"
     ]
    }
   ],
   "source": [
    "l = [3, 6.4, 10, 1, -20, 30/4, 1/3]\n",
    "\n",
    "l_sorted = sorted(l, reverse=False) # False является значением аргумента по умолчанию (дефолтным)\n",
    "l_sorted_reverse = sorted(l, reverse=True)\n",
    "\n",
    "print('Отсортированный список:', l_sorted)\n",
    "print('Список отсортированный в обратном порядке:', l_sorted_reverse)"
   ]
  },
  {
   "cell_type": "markdown",
   "id": "6e9ce4c6-df64-4da8-8aed-28d859010fa5",
   "metadata": {},
   "source": [
    "### Написание функций своими руками\n",
    "\n",
    "Синтаксис:\n",
    "\n",
    "``` python\n",
    "def название(аргумент1, аргумент2):\n",
    "    *код внутри функции*\n",
    "    *код внутри функции*\n",
    "    *код внутри функции*\n",
    "    return возвращаемое_значение\n",
    "```\n",
    "\n",
    "Пример:"
   ]
  },
  {
   "cell_type": "code",
   "execution_count": 5,
   "id": "ce3080f4-3129-4b46-a237-83bc3b75dcc9",
   "metadata": {},
   "outputs": [
    {
     "name": "stdout",
     "output_type": "stream",
     "text": [
      "10\n"
     ]
    }
   ],
   "source": [
    "def multiply(a, b):\n",
    "    c = a*b\n",
    "    return c\n",
    "\n",
    "a = 2\n",
    "b = 5\n",
    "    \n",
    "print(multiply(2,5))"
   ]
  },
  {
   "cell_type": "markdown",
   "id": "98750c38-400d-48b8-8eae-9a0617097d87",
   "metadata": {},
   "source": [
    "### Объекты и методы\n",
    "\n",
    "У некоторых типов данных в `python` есть вшитые в них функции. Они называют методами и доступны через точку. Посмотрим на методы строк:"
   ]
  },
  {
   "cell_type": "code",
   "execution_count": 6,
   "id": "e771496c-7fbb-4094-ae88-0634aea84b25",
   "metadata": {},
   "outputs": [
    {
     "name": "stdout",
     "output_type": "stream",
     "text": [
      "Метод .upper() возвращает строчку капсом: HELLO WORLD!\n",
      "Метод .upper() возвращает строчку прописными (маленькими) буквами: hello world!\n"
     ]
    }
   ],
   "source": [
    "sample = 'Hello world!'\n",
    "print('Метод .upper() возвращает строчку капсом:', sample.upper())\n",
    "print('Метод .upper() возвращает строчку прописными (маленькими) буквами:', sample.lower())"
   ]
  },
  {
   "cell_type": "markdown",
   "id": "6d6ef70b-9a39-40bb-99c2-ba3ce313ed44",
   "metadata": {},
   "source": [
    "`.find()` позволяет найти положение нужного символа или несколькоих символов (*подстроки* или *substring*) в строке. Возвращает этот метод индекс (позицию) этого символа в строке:"
   ]
  },
  {
   "cell_type": "code",
   "execution_count": 7,
   "id": "9ac5a697-ac36-44aa-a05a-f878de57d95e",
   "metadata": {},
   "outputs": [
    {
     "name": "stdout",
     "output_type": "stream",
     "text": [
      "184\n",
      "с\n"
     ]
    }
   ],
   "source": [
    "# сделаем строку с огромным количеством английских символов c и спрячем туда одну кириллическую с\n",
    "ccc = 'c c c c c c c c c c c c c c c c c c c c c c c c c c c c c c c c c c c c c c c c c c c c c c c c c c c c c c c c c c c c c c c c c c c c c c c c c c c c c c c c c c c c c c c c c c c c с c c c c c c c c c c c c c c c c c c c c c c c c c c c c c c c c c c c c c c c c c c c c c c c c c c c c c c c c c c c c c c c c c c c c c c c c c c c c c'\n",
    "index = ccc.find('с') # теперь ищем кириллическую с, получаем ее индекс в строке\n",
    "print(index)\n",
    "print(ccc[index])"
   ]
  },
  {
   "cell_type": "markdown",
   "id": "402a1a5c-9194-4b21-80ef-db0b95eb8903",
   "metadata": {},
   "source": [
    "`.split()` позволяет разделять строки задав разделитель как аргумент. Возвращает этот метод список строк. Например:"
   ]
  },
  {
   "cell_type": "code",
   "execution_count": 8,
   "id": "52427556-4e1d-46cb-bd91-cf508a04e4bd",
   "metadata": {},
   "outputs": [
    {
     "name": "stdout",
     "output_type": "stream",
     "text": [
      "['Заходят', 'Гегель,', 'Гаусс', 'и', 'Гарри', 'Дюбуа', 'в', 'бар,', 'а', 'там...']\n"
     ]
    }
   ],
   "source": [
    "sentence = 'Заходят Гегель, Гаусс и Гарри Дюбуа в бар, а там...'\n",
    "words = sentence.split(' ')\n",
    "\n",
    "print(words)"
   ]
  },
  {
   "cell_type": "markdown",
   "id": "34f59646-af36-4b87-b9d4-acac5fe71e7e",
   "metadata": {},
   "source": [
    "# **Задания**\n",
    "\n",
    "### Барбикор\n",
    "\n",
    "Напишите функцию, которая принимает на вход строку и возвращает ее написанную лЕсЕнКоЙ, например для строки \"Привет, Барби!\" функция должна вернуть \"пРиВеТ, бАрБи\"."
   ]
  },
  {
   "cell_type": "code",
   "execution_count": 9,
   "id": "9aed38f2-7020-4ea4-992f-77d4ca788857",
   "metadata": {},
   "outputs": [],
   "source": [
    "# Ваш код"
   ]
  },
  {
   "cell_type": "markdown",
   "id": "dadc3e44-5dcf-4839-875b-af03666ec56d",
   "metadata": {},
   "source": [
    "### Баг в муравейнике\n",
    "\n",
    "Почему не работает следующий блок кода?"
   ]
  },
  {
   "cell_type": "code",
   "execution_count": 23,
   "id": "ede4862f-a357-4c27-bce3-17173e78d329",
   "metadata": {},
   "outputs": [
    {
     "ename": "AttributeError",
     "evalue": "'NoneType' object has no attribute 'append'",
     "output_type": "error",
     "traceback": [
      "\u001b[0;31m---------------------------------------------------------------------------\u001b[0m",
      "\u001b[0;31mAttributeError\u001b[0m                            Traceback (most recent call last)",
      "Cell \u001b[0;32mIn[23], line 3\u001b[0m\n\u001b[1;32m      1\u001b[0m a \u001b[38;5;241m=\u001b[39m []\n\u001b[1;32m      2\u001b[0m \u001b[38;5;28;01mfor\u001b[39;00m i \u001b[38;5;129;01min\u001b[39;00m \u001b[38;5;28mrange\u001b[39m(\u001b[38;5;241m10\u001b[39m):\n\u001b[0;32m----> 3\u001b[0m     a \u001b[38;5;241m=\u001b[39m \u001b[43ma\u001b[49m\u001b[38;5;241;43m.\u001b[39;49m\u001b[43mappend\u001b[49m(i)\n",
      "\u001b[0;31mAttributeError\u001b[0m: 'NoneType' object has no attribute 'append'"
     ]
    }
   ],
   "source": [
    "a = []\n",
    "for i in range(10):\n",
    "    a = a.append(i)"
   ]
  },
  {
   "cell_type": "markdown",
   "id": "edc2a23f-e876-4c91-b4bf-4d5680cd8b21",
   "metadata": {},
   "source": [
    "А c этим что не так?"
   ]
  },
  {
   "cell_type": "code",
   "execution_count": 25,
   "id": "069cabf4-dc01-4abd-9860-7c60112cfcf3",
   "metadata": {},
   "outputs": [
    {
     "name": "stdout",
     "output_type": "stream",
     "text": [
      "None\n"
     ]
    }
   ],
   "source": [
    "def fun(a, b):\n",
    "    c = (1/a + b)**a\n",
    "\n",
    "c = fun(1, 2)\n",
    "print(c)"
   ]
  },
  {
   "cell_type": "markdown",
   "id": "3c3695dc-58d5-4724-b718-cbd3741cf847",
   "metadata": {},
   "source": [
    "### Голова уже квадратная\n",
    "\n",
    "Напишите функцию, которая принимает на вход список чисел, а возвращает список список квадратов этих чисел:"
   ]
  },
  {
   "cell_type": "code",
   "execution_count": null,
   "id": "5a60ff95-5110-4a53-9d9b-8a6df75e8d52",
   "metadata": {},
   "outputs": [],
   "source": [
    "# Ваш код"
   ]
  },
  {
   "cell_type": "markdown",
   "id": "12b5232d-6cc5-4686-89a3-1c6b7b64a51f",
   "metadata": {},
   "source": [
    "### Да что опять с вашим ftp-сервером не так...\n",
    "\n",
    "Часто бывает так, что вам нужно загружать кучу данных и выбирать из них только нужные. Уже на следующем занятии мы познакомимся с работой с файлами, как их считывать и открывать! А пока давайте потренируемся фильтровать их: перед вами список файлов, вам нужно отфильтровать их по расширению. Сделайте новый список только из файлов с расширением `.txt`:"
   ]
  },
  {
   "cell_type": "markdown",
   "id": "7f533ef9-74b5-41b9-b457-8910dee9bd5f",
   "metadata": {},
   "source": [
    "> ☝ Это задания можно сделать с помощью метода `.find()`, а можно с помощью комбинации ключевых слов `is in`. Например, можно сделать следующее:\n",
    "> ```python\n",
    "> is 'Hello' in 'Hello world!' \n",
    "> > True "
   ]
  },
  {
   "cell_type": "code",
   "execution_count": 26,
   "id": "972bfe13-46b8-424c-81ce-158e47ccea9f",
   "metadata": {},
   "outputs": [],
   "source": [
    "files = ['readme.txt', 'rn_wolff2009.txt', 'tmp.txt', 'sample.py', 'sio2_re.txt', 't16-luminance.fit', \n",
    "         'Untitled1.ipynb', 'wgetlog.txt', 'annual.csv', 'bhcoat.f', 'log.txt']\n",
    "\n",
    "files_txt = []\n",
    "\n",
    "# Ваш код"
   ]
  },
  {
   "cell_type": "markdown",
   "id": "73226dc9-e5ea-4866-8cf3-c38157ddfe9b",
   "metadata": {},
   "source": [
    "✨ Элементами списка может быть что угодно, даже другой список! В списке ниже каждый список это под-директория (проще говоря папка внутри папки!). Попробуйте найти `.txt` файлы в таком списке:"
   ]
  },
  {
   "cell_type": "code",
   "execution_count": 28,
   "id": "8f69680a-e709-481e-a41b-543462aa7161",
   "metadata": {},
   "outputs": [],
   "source": [
    "files_and_dirs = [['orbits/SPIM_0BR_06809A02_N.mat',  'orbits/SPIM_0BR_06811A01_N.mat', \n",
    "                   'orbits/SPIM_0BR_06814A01_N.mat'],\n",
    "                 ['for_bernard/ices.zip', 'for_bernard/pictures', 'for_bernard/readme.txt', \n",
    "                  'for_bernard/SPIM_0BR_06502A01_N_05_calibr_2011spec025.txt'], \n",
    "                 ['lab/20161020_SPIPA_B_1_223K_i0_e-30_a0.data.csv', 'lab/new.txt', \n",
    "                  'lab/NIR-WaterIceGrains_210micron_196K.data.csv', 'lab/NIR-WaterIceGrains_390micron_196K.data.csv']]\n"
   ]
  },
  {
   "cell_type": "markdown",
   "id": "9ce77141-aabc-4dba-9910-147f4dbddf71",
   "metadata": {},
   "source": [
    "### Вычисляем размер частиц\n",
    "\n",
    "Студент геофака пытается обработать данные для своей дипломной работы. Ему дали данные файла эксперимента, но вот незадача &ndash; вместо удобной таблички экспериментаторы зашили размер частиц льда в леднике в название файла. Оно выглядит так:\n",
    "`EXPERIM_(две цифры с номером)_(размер частиц)mm.txt`\n",
    "\n",
    "Сделайте новый список, в котором будут размеры частиц для каждого файла:"
   ]
  },
  {
   "cell_type": "code",
   "execution_count": 48,
   "id": "5e8aee82-cf93-4eb8-9d10-7a1b71da017c",
   "metadata": {},
   "outputs": [],
   "source": [
    "files = ['EXPERIM_00_120mm.txt',\n",
    "         'EXPERIM_01_160mm.txt',\n",
    "         'EXPERIM_02_170mm.txt',\n",
    "         'EXPERIM_03_100mm.txt',\n",
    "         'EXPERIM_04_100mm.txt',\n",
    "         'EXPERIM_05_160mm.txt',\n",
    "         'EXPERIM_06_190mm.txt',\n",
    "         'EXPERIM_07_130mm.txt',\n",
    "         'EXPERIM_08_170mm.txt',\n",
    "         'EXPERIM_09_110mm.txt',\n",
    "         'EXPERIM_10_150mm.txt',\n",
    "         'EXPERIM_11_100mm.txt',\n",
    "         'EXPERIM_12_180mm.txt',\n",
    "         'EXPERIM_13_100mm.txt',\n",
    "         'EXPERIM_14_160mm.txt',\n",
    "         'EXPERIM_15_190mm.txt',\n",
    "         'EXPERIM_16_170mm.txt',\n",
    "         'EXPERIM_17_130mm.txt',\n",
    "         'EXPERIM_18_160mm.txt',\n",
    "         'EXPERIM_19_110mm.txt']\n",
    "\n",
    "# Ваш код "
   ]
  },
  {
   "cell_type": "markdown",
   "id": "476e4eef-02f6-44f6-82d0-d431e62b3579",
   "metadata": {},
   "source": [
    "✨✨ А что если создатели были не так заботливы и в номере эксперимента количество символов не было фиксировано? "
   ]
  },
  {
   "cell_type": "code",
   "execution_count": 49,
   "id": "9a08c64a-8986-4389-a121-db832912b811",
   "metadata": {},
   "outputs": [],
   "source": [
    "files_bad = ['EXPERIM_0_170mm.txt',\n",
    "             'EXPERIM_88_180mm.txt',\n",
    "             'EXPERIM_42_110mm.txt',\n",
    "             'EXPERIM_169_120mm.txt',\n",
    "             'EXPERIM_400_120mm.txt',\n",
    "             'EXPERIM_37_160mm.txt',\n",
    "             'EXPERIM_34_120mm.txt',\n",
    "             'EXPERIM_0_190mm.txt',\n",
    "             'EXPERIM_2559_110mm.txt',\n",
    "             'EXPERIM_0_100mm.txt',\n",
    "             'EXPERIM_5046_140mm.txt',\n",
    "             'EXPERIM_6_100mm.txt',\n",
    "             'EXPERIM_76_160mm.txt',\n",
    "             'EXPERIM_6352_160mm.txt',\n",
    "             'EXPERIM_0_130mm.txt',\n",
    "             'EXPERIM_6669_120mm.txt',\n",
    "             'EXPERIM_0_110mm.txt',\n",
    "             'EXPERIM_1_160mm.txt',\n",
    "             'EXPERIM_850_120mm.txt',\n",
    "             'EXPERIM_0_110mm.txt']\n",
    "\n",
    "# Ваш код "
   ]
  },
  {
   "cell_type": "markdown",
   "id": "505ef0b3-fa3b-414d-983e-3d182dc8c91c",
   "metadata": {},
   "source": [
    "### ✨ Пошёл на фиг со своей физической географией\n",
    "\n",
    "Климат любой планеты во многом определяется зависимостью [температуры от высоты](https://ru.wikipedia.org/wiki/%D0%90%D1%82%D0%BC%D0%BE%D1%81%D1%84%D0%B5%D1%80%D0%B0_%D0%97%D0%B5%D0%BC%D0%BB%D0%B8). Один из показателей, который влияет на циркуляцию атмосферы это температурный градиент. Не углублясь в теорию, если температура падает с высотой быстрее опредленного значения, то она становится турбулентной, а если медленнее &ndash; то наоборот, все турбулентности подавляются. Это значение называется *[адиабатическим градиентом](https://ru.wikipedia.org/wiki/%D0%90%D0%B4%D0%B8%D0%B0%D0%B1%D0%B0%D1%82%D0%B8%D1%87%D0%B5%D1%81%D0%BA%D0%B8%D0%B9_%D0%B3%D1%80%D0%B0%D0%B4%D0%B8%D0%B5%D0%BD%D1%82_%D1%82%D0%B5%D0%BC%D0%BF%D0%B5%D1%80%D0%B0%D1%82%D1%83%D1%80%D1%8B)* и равно для Земли 9.8°. Посчитайте градиент температуры для вот этого температурного профиля и запишите его в новый список.\n",
    "\n",
    "Формула температурного градиента выглядит так:\n",
    "$$\n",
    "\\gamma = -dT/dz\n",
    "$$"
   ]
  },
  {
   "cell_type": "markdown",
   "id": "adf963c1-6913-4808-a3c7-e81905b254c8",
   "metadata": {},
   "source": [
    "<p>\n",
    "<details>\n",
    "<summary> <u> Подсказка как считать градиент: </u> </summary>\n",
    "\n",
    "Достаточно просто найти разницу двух последовательных элементов списка температуры и разделить на разницу двух последовательных элементов списка высоты.\n",
    "\n",
    "</details>\n",
    "</p>"
   ]
  },
  {
   "cell_type": "markdown",
   "id": "dbe7f37e-4c33-4b5f-96ea-618ad3a5a9b7",
   "metadata": {},
   "source": [
    "<p>\n",
    "<details>\n",
    "<summary> <u> Подсказка как это написать: </u> </summary>\n",
    "\n",
    "``` python\n",
    "(temp[i+1]-temp[i])/(height[i+1] - height[i])\n",
    "```\n",
    "</details>\n",
    "</p>"
   ]
  },
  {
   "cell_type": "code",
   "execution_count": 51,
   "id": "21d5695c-6ab4-4328-95ac-acb41e168e50",
   "metadata": {},
   "outputs": [],
   "source": [
    "temp = [277.26, 253.09, 235.21, 217.19, 213.61, 218.04, 231.20, 244.94, 257.52, 261.24, 246.37, 230.35, 216.33, 199.73] # температура в Кельвинах\n",
    "height = [0.3754, 4.4931, 7.3842, 10.362, 15.093, 25.607, 34.718, 40.150, 45.231, 51.889, 58.197, 64.680, 70.287, 77.647] # высота в километрах\n",
    "\n",
    "gradient = []"
   ]
  },
  {
   "cell_type": "markdown",
   "id": "dd423c3c-d293-4f34-a321-7d4caab69c8a",
   "metadata": {},
   "source": [
    "✨ Сделайте новый список, где каждый элемент будет равен `True` если атмосфера турбулента, и `False` если нет."
   ]
  },
  {
   "cell_type": "code",
   "execution_count": 50,
   "id": "57649ca5-2308-41e1-9b04-1c21c162c81e",
   "metadata": {},
   "outputs": [],
   "source": [
    "# Ваш код "
   ]
  }
 ],
 "metadata": {
  "kernelspec": {
   "display_name": "Python 3 (ipykernel)",
   "language": "python",
   "name": "python3"
  },
  "language_info": {
   "codemirror_mode": {
    "name": "ipython",
    "version": 3
   },
   "file_extension": ".py",
   "mimetype": "text/x-python",
   "name": "python",
   "nbconvert_exporter": "python",
   "pygments_lexer": "ipython3",
   "version": "3.10.13"
  }
 },
 "nbformat": 4,
 "nbformat_minor": 5
}
