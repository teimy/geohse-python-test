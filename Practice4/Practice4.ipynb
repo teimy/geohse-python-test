{
 "cells": [
  {
   "cell_type": "markdown",
   "id": "0f1be657-79c8-47e6-b675-19c21bf56ad1",
   "metadata": {},
   "source": [
    "# **Практическое занятие 4: форматируем строки, читаем файлы, пишем файлы**\n",
    "\n",
    "## **План семинара**\n",
    "\n",
    "- Как будет устроено занятие?\n",
    "- Чего мы хотим добиться сегодня?\n",
    "- Тезисно вспоминаем основные понятия с лекции\n",
    "    - Вопросы?\n",
    "- Расходимся по комнатам и решаем задания\n",
    "- Подводим итоги"
   ]
  },
  {
   "cell_type": "markdown",
   "id": "4803c8fa-c0c1-4c43-8e95-ffe522d3f393",
   "metadata": {},
   "source": [
    "### `f`-строки\n",
    "\n",
    "Добавив к строке до её начала `f` можно вставлять туда переменные, в том числе числовые значения:"
   ]
  },
  {
   "cell_type": "code",
   "execution_count": 1,
   "id": "a3e0ee61-90af-48d0-9beb-2161835b0cbb",
   "metadata": {},
   "outputs": [
    {
     "name": "stdout",
     "output_type": "stream",
     "text": [
      "Сегодня в Москве 24.2 градуса по Цельсию\n"
     ]
    }
   ],
   "source": [
    "degrees = 24.2\n",
    "message = f'Сегодня в Москве {degrees} градуса по Цельсию' \n",
    "\n",
    "print(message)"
   ]
  },
  {
   "cell_type": "markdown",
   "id": "5d37f532-3929-4cba-a31f-c52d35e1377e",
   "metadata": {},
   "source": [
    "### Метод `.format()`\n",
    "\n",
    "Пример использования:"
   ]
  },
  {
   "cell_type": "code",
   "execution_count": 2,
   "id": "1c8f8bb3-0a72-45c9-b565-3c7b6e04dccc",
   "metadata": {},
   "outputs": [
    {
     "name": "stdout",
     "output_type": "stream",
     "text": [
      "Биба и Боба\n"
     ]
    }
   ],
   "source": [
    "print('{person1} и {person2}'.format(person1='Биба', person2='Боба'))"
   ]
  },
  {
   "cell_type": "markdown",
   "id": "909f8400-4b8a-45db-ad44-8ed2f91e2555",
   "metadata": {},
   "source": [
    "# **Работа с файлами в python**\n",
    "\n",
    "Открываем файл так:"
   ]
  },
  {
   "cell_type": "code",
   "execution_count": 3,
   "id": "484a710b-c0ad-42a0-ae54-37fd8008e5d0",
   "metadata": {},
   "outputs": [
    {
     "name": "stdout",
     "output_type": "stream",
     "text": [
      "Moscow 55.7558 37.6178\n",
      "SaintPetersburg 59.9500 30.3167\n",
      "Novosibirsk 55.0333 82.9167\n",
      "Yekaterinburg 56.8356 60.6128\n",
      "NizhniyNovgorod 56.3269 44.0075\n",
      "Kazan 55.7964 49.1089\n",
      "Chelyabinsk 55.1500 61.4000\n",
      "Omsk 54.9667 73.3833\n",
      "Samara 53.2028 50.1408\n",
      "Rostov 47.2333 39.7000\n",
      "Ufa 54.7261 55.9475\n",
      "Krasnoyarsk 56.0089 92.8719\n",
      "Voronezh 51.6717 39.2106\n",
      "Perm 58.0139 56.2489\n",
      "Volgograd 48.7086 44.5147\n",
      "\n"
     ]
    }
   ],
   "source": [
    "with open('data/russian_cities.txt') as f:\n",
    "    russian_cities = f.read()\n",
    "\n",
    "print(russian_cities) # данные с координатами Российских городов"
   ]
  },
  {
   "cell_type": "markdown",
   "id": "62f842c6-a7c5-4cd8-9c99-398af3777497",
   "metadata": {},
   "source": [
    "Методы для считывания файлов:\n",
    "- `.read()` считывает файл полностью в виде строкиу\n",
    "- `.readlines()` считывает все строки и записывает в массив: каждый элемент массива это новая строка\n",
    "\n",
    "Пример:"
   ]
  },
  {
   "cell_type": "code",
   "execution_count": null,
   "id": "e0dd9002-9f52-4b38-95cb-b99178bc3e35",
   "metadata": {},
   "outputs": [],
   "source": [
    "with open('data/russian_cities.txt') as f:\n",
    "    russian_cities = f.readlines()\n",
    "\n",
    "print(russian_cities) "
   ]
  },
  {
   "cell_type": "markdown",
   "id": "c1c47d02-fa43-4925-9566-03c6649bdead",
   "metadata": {},
   "source": [
    "### Запись в файлы\n",
    "\n",
    "Почти то же самое, пример:"
   ]
  },
  {
   "cell_type": "code",
   "execution_count": 4,
   "id": "400b78e4-ddbd-408e-bb84-5319499e853f",
   "metadata": {},
   "outputs": [
    {
     "name": "stdout",
     "output_type": "stream",
     "text": [
      "Moscow 55.7558 37.6178\n",
      "SaintPetersburg 59.9500 30.3167\n",
      "Novosibirsk 55.0333 82.9167\n",
      "Yekaterinburg 56.8356 60.6128\n",
      "NizhniyNovgorod 56.3269 44.0075\n",
      "Kazan 55.7964 49.1089\n",
      "Chelyabinsk 55.1500 61.4000\n",
      "Omsk 54.9667 73.3833\n",
      "Samara 53.2028 50.1408\n",
      "Rostov 47.2333 39.7000\n",
      "Ufa 54.7261 55.9475\n",
      "Krasnoyarsk 56.0089 92.8719\n",
      "Voronezh 51.6717 39.2106\n",
      "Perm 58.0139 56.2489\n",
      "Volgograd 48.7086 44.5147\n"
     ]
    }
   ],
   "source": [
    "with open('data/duplicate_cities.txt', mode='w') as f:\n",
    "    f.write(russian_cities)\n",
    "\n",
    "%cat data/duplicate_cities.txt # лайфхак для вывода (может не работать на Windows)"
   ]
  },
  {
   "cell_type": "markdown",
   "id": "2ba1d548-4490-4d26-be38-48244a05d56c",
   "metadata": {},
   "source": [
    "# **Словари**\n",
    "\n",
    "Словари это особая форма хранения данных: для доступа к ячейке используются не индекс, а любая строка (*ключ*). Словари проще всего создавать через фигурные скобки. Пример создания словаря:"
   ]
  },
  {
   "cell_type": "code",
   "execution_count": 5,
   "id": "46c7e7c6-a8f6-43cd-9afa-af99db5d62a5",
   "metadata": {
    "scrolled": true
   },
   "outputs": [
    {
     "name": "stdout",
     "output_type": "stream",
     "text": [
      "{'Фамилия': 'Лштшфум', 'Имя': 'Ащьф', 'Дата рождения': '21.08.1969', 'Пол': 'М'}\n"
     ]
    }
   ],
   "source": [
    "jason_borne = {'Фамилия': 'Лштшфум', 'Имя': 'Ащьф', 'Дата рождения': '21.08.1969', 'Пол': 'М'}\n",
    "\n",
    "print(jason_borne)"
   ]
  },
  {
   "cell_type": "markdown",
   "id": "895512bf-4112-403e-90a5-f45ade193184",
   "metadata": {},
   "source": [
    "Для доступа к значениям нужно использовать квадратные скобки, как и в списках:"
   ]
  },
  {
   "cell_type": "code",
   "execution_count": 6,
   "id": "61741048-b37c-4159-a37f-d58e2a0a553e",
   "metadata": {},
   "outputs": [
    {
     "name": "stdout",
     "output_type": "stream",
     "text": [
      "Ащьф Лштшфум\n"
     ]
    }
   ],
   "source": [
    "print(jason_borne['Имя'], jason_borne['Фамилия'])"
   ]
  },
  {
   "cell_type": "markdown",
   "id": "435db654-f5d1-4c9d-809e-a2858c88a3c1",
   "metadata": {},
   "source": [
    "Добавление элемента в словарь:"
   ]
  },
  {
   "cell_type": "code",
   "execution_count": 7,
   "id": "aa8e7051-c9f4-43b7-8afc-8c62510898b4",
   "metadata": {},
   "outputs": [],
   "source": [
    "jason_borne['Место рождения'] = 'Moscou'"
   ]
  },
  {
   "cell_type": "markdown",
   "id": "cd0f9708-4f2d-48e7-912b-eae953f7590c",
   "metadata": {},
   "source": [
    "Для упрощения работы с ними полезно знать несколько методов:\n",
    "- `.keys()` возвращает список ключей\n",
    "- `.values()` возвращает список значений"
   ]
  },
  {
   "cell_type": "code",
   "execution_count": 8,
   "id": "99c36245-400d-4b6b-9f80-7ca307bd0bdf",
   "metadata": {},
   "outputs": [
    {
     "name": "stdout",
     "output_type": "stream",
     "text": [
      "Ключи в нашем словаре: dict_keys(['Фамилия', 'Имя', 'Дата рождения', 'Пол', 'Место рождения'])\n",
      "Значения в нашем словаре: dict_values(['Лштшфум', 'Ащьф', '21.08.1969', 'М', 'Moscou'])\n"
     ]
    }
   ],
   "source": [
    "print('Ключи в нашем словаре:', jason_borne.keys())\n",
    "print('Значения в нашем словаре:', jason_borne.values())"
   ]
  },
  {
   "cell_type": "markdown",
   "id": "2a850344-6d2d-4065-a1e6-890777951934",
   "metadata": {},
   "source": [
    "Мы можем индексировать ключи в циклах так же, как и списки:"
   ]
  },
  {
   "cell_type": "code",
   "execution_count": 10,
   "id": "8c492a95-e8ce-4537-9a5e-b16849187579",
   "metadata": {},
   "outputs": [
    {
     "name": "stdout",
     "output_type": "stream",
     "text": [
      "Значение по ключу Фамилия равно Лштшфум\n",
      "Значение по ключу Имя равно Ащьф\n",
      "Значение по ключу Дата рождения равно 21.08.1969\n",
      "Значение по ключу Пол равно М\n",
      "Значение по ключу Место рождения равно Moscou\n"
     ]
    }
   ],
   "source": [
    "for key in jason_borne.keys():\n",
    "    print(f'Значение по ключу {key} равно {jason_borne[key]}')"
   ]
  },
  {
   "cell_type": "markdown",
   "id": "36fdec6b-1fb0-477b-9def-e10538e11a82",
   "metadata": {},
   "source": [
    "## Кортежи\n",
    "\n",
    "Кортежи (*tuples*) очень похожи на списки, но их нельзя изменять. Например:"
   ]
  },
  {
   "cell_type": "code",
   "execution_count": 12,
   "id": "d5805db9-4f3a-4836-ab9e-f57ad6a03fe6",
   "metadata": {},
   "outputs": [
    {
     "data": {
      "text/plain": [
       "('Moscow',\n",
       " 'SaintPetersburg',\n",
       " 'Novosibirsk',\n",
       " 'Yekaterinburg',\n",
       " 'NizhniyNovgorod',\n",
       " 'Kazan',\n",
       " 'Chelyabinsk',\n",
       " 'Omsk',\n",
       " 'Samara',\n",
       " 'Rostov',\n",
       " 'Ufa',\n",
       " 'Krasnoyarsk',\n",
       " 'Voronezh',\n",
       " 'Perm',\n",
       " 'Volgograd')"
      ]
     },
     "execution_count": 12,
     "metadata": {},
     "output_type": "execute_result"
    }
   ],
   "source": [
    "cities_names = tuple([element.split(' ')[0] for element in russian_cities.split('\\n')][:-1]) # сгенировали список городов\n",
    "cities_names"
   ]
  },
  {
   "cell_type": "code",
   "execution_count": 13,
   "id": "6a2821eb-da1f-4226-895f-035ad21cbfd2",
   "metadata": {},
   "outputs": [
    {
     "ename": "TypeError",
     "evalue": "'tuple' object does not support item assignment",
     "output_type": "error",
     "traceback": [
      "\u001b[0;31m---------------------------------------------------------------------------\u001b[0m",
      "\u001b[0;31mTypeError\u001b[0m                                 Traceback (most recent call last)",
      "Cell \u001b[0;32mIn[13], line 1\u001b[0m\n\u001b[0;32m----> 1\u001b[0m cities_names[\u001b[38;5;241m0\u001b[39m] \u001b[38;5;241m=\u001b[39m \u001b[38;5;124m'\u001b[39m\u001b[38;5;124mМосква\u001b[39m\u001b[38;5;124m'\u001b[39m\n",
      "\u001b[0;31mTypeError\u001b[0m: 'tuple' object does not support item assignment"
     ]
    }
   ],
   "source": [
    "cities_names[0] = 'Москва'"
   ]
  },
  {
   "cell_type": "markdown",
   "id": "9d69bce6-6d7b-4afc-943f-1a6ec11e2b56",
   "metadata": {},
   "source": [
    "# **Задания**\n",
    "\n",
    "### Ну ниче ниче...\n",
    "\n",
    "Найдите ошибку в следующем блоке кода:"
   ]
  },
  {
   "cell_type": "code",
   "execution_count": 38,
   "id": "14793bc8-c77e-4e22-8c12-81128942cc94",
   "metadata": {},
   "outputs": [
    {
     "ename": "SyntaxError",
     "evalue": "invalid syntax (1512395829.py, line 2)",
     "output_type": "error",
     "traceback": [
      "\u001b[0;36m  Cell \u001b[0;32mIn[38], line 2\u001b[0;36m\u001b[0m\n\u001b[0;31m    message = f'Это переносной модуль с ' singularity ': работа всей моей жизни'\u001b[0m\n\u001b[0m                                          ^\u001b[0m\n\u001b[0;31mSyntaxError\u001b[0m\u001b[0;31m:\u001b[0m invalid syntax\n"
     ]
    }
   ],
   "source": [
    "singularity = 'Сингулярностью'\n",
    "message = f'Это переносной модуль с ' singularity ': работа всей моей жизни' \n",
    "\n",
    "print(message)"
   ]
  },
  {
   "cell_type": "markdown",
   "id": "076d7b2f-2b7d-4e51-8f00-b2f3cb0cd87f",
   "metadata": {},
   "source": [
    "А здесь?"
   ]
  },
  {
   "cell_type": "code",
   "execution_count": 43,
   "id": "18f97747-a6ba-4f8a-9fd7-30428aeb8c6d",
   "metadata": {},
   "outputs": [
    {
     "ename": "SyntaxError",
     "evalue": "invalid syntax (1716856629.py, line 2)",
     "output_type": "error",
     "traceback": [
      "\u001b[0;36m  Cell \u001b[0;32mIn[43], line 2\u001b[0;36m\u001b[0m\n\u001b[0;31m    'Хорошо': 'Әйбәт'\u001b[0m\n\u001b[0m            ^\u001b[0m\n\u001b[0;31mSyntaxError\u001b[0m\u001b[0;31m:\u001b[0m invalid syntax\n"
     ]
    }
   ],
   "source": [
    "rus_tatar = {'Я': 'Мин'\n",
    "            'Хорошо': 'Әйбәт'\n",
    "            'Спасибо': 'Рәхмәт'\n",
    "            'Пойдем': 'Инде'\n",
    "            'Да': 'Әйе'\n",
    "            'Нет': 'Юк'\n",
    "            'Есть': 'Бар'}"
   ]
  },
  {
   "cell_type": "markdown",
   "id": "24f9a4a3-d6f8-4a98-aa99-8142cd8ba02d",
   "metadata": {},
   "source": [
    "Используя тот же словарь: "
   ]
  },
  {
   "cell_type": "code",
   "execution_count": 46,
   "id": "c0532c02-a94a-4342-be5c-9343164bb653",
   "metadata": {},
   "outputs": [
    {
     "ename": "TypeError",
     "evalue": "'dict' object is not callable",
     "output_type": "error",
     "traceback": [
      "\u001b[0;31m---------------------------------------------------------------------------\u001b[0m",
      "\u001b[0;31mTypeError\u001b[0m                                 Traceback (most recent call last)",
      "Cell \u001b[0;32mIn[46], line 1\u001b[0m\n\u001b[0;32m----> 1\u001b[0m \u001b[38;5;28mprint\u001b[39m(\u001b[43mrus_tatar\u001b[49m\u001b[43m(\u001b[49m\u001b[38;5;124;43m'\u001b[39;49m\u001b[38;5;124;43mХорошо\u001b[39;49m\u001b[38;5;124;43m'\u001b[39;49m\u001b[43m)\u001b[49m)\n",
      "\u001b[0;31mTypeError\u001b[0m: 'dict' object is not callable"
     ]
    }
   ],
   "source": [
    "print(rus_tatar('Хорошо'))"
   ]
  },
  {
   "cell_type": "markdown",
   "id": "56c24bc7-f1d6-4743-811f-d22a1f954847",
   "metadata": {},
   "source": [
    "А что здесь не так с именем файла? Сравните с примером выше!"
   ]
  },
  {
   "cell_type": "code",
   "execution_count": 70,
   "id": "ab486ba2-6116-4a3f-b1be-8c7b8df1c5e0",
   "metadata": {},
   "outputs": [
    {
     "ename": "FileNotFoundError",
     "evalue": "[Errno 2] No such file or directory: 'russian_cities'",
     "output_type": "error",
     "traceback": [
      "\u001b[0;31m---------------------------------------------------------------------------\u001b[0m",
      "\u001b[0;31mFileNotFoundError\u001b[0m                         Traceback (most recent call last)",
      "Cell \u001b[0;32mIn[70], line 1\u001b[0m\n\u001b[0;32m----> 1\u001b[0m \u001b[38;5;28;01mwith\u001b[39;00m \u001b[38;5;28;43mopen\u001b[39;49m\u001b[43m(\u001b[49m\u001b[38;5;124;43m'\u001b[39;49m\u001b[38;5;124;43mrussian_cities\u001b[39;49m\u001b[38;5;124;43m'\u001b[39;49m\u001b[43m)\u001b[49m \u001b[38;5;28;01mas\u001b[39;00m f:\n\u001b[1;32m      2\u001b[0m     russian_cities \u001b[38;5;241m=\u001b[39m f\u001b[38;5;241m.\u001b[39mreadlines()\n\u001b[1;32m      4\u001b[0m \u001b[38;5;28mprint\u001b[39m(russian_cities)\n",
      "File \u001b[0;32m~/anaconda3/lib/python3.10/site-packages/IPython/core/interactiveshell.py:286\u001b[0m, in \u001b[0;36m_modified_open\u001b[0;34m(file, *args, **kwargs)\u001b[0m\n\u001b[1;32m    279\u001b[0m \u001b[38;5;28;01mif\u001b[39;00m file \u001b[38;5;129;01min\u001b[39;00m {\u001b[38;5;241m0\u001b[39m, \u001b[38;5;241m1\u001b[39m, \u001b[38;5;241m2\u001b[39m}:\n\u001b[1;32m    280\u001b[0m     \u001b[38;5;28;01mraise\u001b[39;00m \u001b[38;5;167;01mValueError\u001b[39;00m(\n\u001b[1;32m    281\u001b[0m         \u001b[38;5;124mf\u001b[39m\u001b[38;5;124m\"\u001b[39m\u001b[38;5;124mIPython won\u001b[39m\u001b[38;5;124m'\u001b[39m\u001b[38;5;124mt let you open fd=\u001b[39m\u001b[38;5;132;01m{\u001b[39;00mfile\u001b[38;5;132;01m}\u001b[39;00m\u001b[38;5;124m by default \u001b[39m\u001b[38;5;124m\"\u001b[39m\n\u001b[1;32m    282\u001b[0m         \u001b[38;5;124m\"\u001b[39m\u001b[38;5;124mas it is likely to crash IPython. If you know what you are doing, \u001b[39m\u001b[38;5;124m\"\u001b[39m\n\u001b[1;32m    283\u001b[0m         \u001b[38;5;124m\"\u001b[39m\u001b[38;5;124myou can use builtins\u001b[39m\u001b[38;5;124m'\u001b[39m\u001b[38;5;124m open.\u001b[39m\u001b[38;5;124m\"\u001b[39m\n\u001b[1;32m    284\u001b[0m     )\n\u001b[0;32m--> 286\u001b[0m \u001b[38;5;28;01mreturn\u001b[39;00m \u001b[43mio_open\u001b[49m\u001b[43m(\u001b[49m\u001b[43mfile\u001b[49m\u001b[43m,\u001b[49m\u001b[43m \u001b[49m\u001b[38;5;241;43m*\u001b[39;49m\u001b[43margs\u001b[49m\u001b[43m,\u001b[49m\u001b[43m \u001b[49m\u001b[38;5;241;43m*\u001b[39;49m\u001b[38;5;241;43m*\u001b[39;49m\u001b[43mkwargs\u001b[49m\u001b[43m)\u001b[49m\n",
      "\u001b[0;31mFileNotFoundError\u001b[0m: [Errno 2] No such file or directory: 'russian_cities'"
     ]
    }
   ],
   "source": [
    "with open('russian_cities') as f:\n",
    "    russian_cities = f.readlines()\n",
    "\n",
    "print(russian_cities) "
   ]
  },
  {
   "cell_type": "markdown",
   "id": "c00baffe-d11a-4ade-ae33-0dda71a7b9bd",
   "metadata": {},
   "source": [
    "### Самые большие пики\n",
    "\n",
    "Считайте файл `data/peaks.txt` с названием самых высоких пиков в мире и их относительной высотой (как список строк или как одну большую строку):"
   ]
  },
  {
   "cell_type": "code",
   "execution_count": null,
   "id": "65e3d7cb-d52b-4841-9687-30511a79d267",
   "metadata": {},
   "outputs": [],
   "source": [
    "# Ваш код"
   ]
  },
  {
   "cell_type": "markdown",
   "id": "24e20f04-3e77-41c7-83ef-b7db337162f1",
   "metadata": {},
   "source": [
    "✨ Сделайте из этого файла два списка: название и возвышение. Это задание можно решить сразу несколькими разными способами."
   ]
  },
  {
   "cell_type": "code",
   "execution_count": 36,
   "id": "ecb94c1e-2361-478f-8c9e-62450d2265b6",
   "metadata": {},
   "outputs": [],
   "source": [
    "# Ваш код"
   ]
  },
  {
   "cell_type": "markdown",
   "id": "95d1b1a8-c556-416f-ab7e-f6c00714eaca",
   "metadata": {},
   "source": [
    "✨ Найдите высоту пять самых высоких пиков (без названия, просто пять значений высоты):"
   ]
  },
  {
   "cell_type": "code",
   "execution_count": null,
   "id": "ac916ff3-54f0-4aa0-b235-3181c668df44",
   "metadata": {},
   "outputs": [],
   "source": [
    "# Ваш код"
   ]
  },
  {
   "cell_type": "markdown",
   "id": "babc50df-7dd3-4359-bca5-5a949c936697",
   "metadata": {},
   "source": [
    "✨✨ Найдите название пяти самых высоких пиков. Для этого вам понадобятся [метод `.index()`](https://www.w3schools.com/python/ref_list_index.asp):"
   ]
  },
  {
   "cell_type": "code",
   "execution_count": 37,
   "id": "061f4323-9c18-4aee-97ca-479e4e8e2c1f",
   "metadata": {},
   "outputs": [],
   "source": [
    "# Ваш код"
   ]
  },
  {
   "cell_type": "markdown",
   "id": "2880318f-3fdc-43e3-ae36-4d67e642e27a",
   "metadata": {},
   "source": [
    "### Кто был хорошим в этом году?\n",
    "\n",
    "Помогите Деду Морозу узнать кто был хорошим, а кто плохим в этом году! У него есть список всех детей в файле `cold_ded.txt`, где на против каждого имени стоит 1 или 0. Сделайте словарь, где ключами будут имена детей, а значениями &ndash; `хороший` или `плохой`. Так дедушке будет проще понять!"
   ]
  },
  {
   "cell_type": "code",
   "execution_count": null,
   "id": "674515b9-07cd-4874-9b66-203c5e44489c",
   "metadata": {},
   "outputs": [],
   "source": [
    "# Ваш код"
   ]
  },
  {
   "cell_type": "markdown",
   "id": "d4109f3f-fb01-47e3-a63e-633c98adaa1d",
   "metadata": {},
   "source": [
    "### Дети внимание задание на следующие полчаса прочитать войну и мир\n",
    "\n",
    "Считайте файл `war_and_peace.txt` в директорее `data` в одну большую строку:"
   ]
  },
  {
   "cell_type": "code",
   "execution_count": null,
   "id": "6b132671-2dc7-4576-acf3-0f0e8a197ff6",
   "metadata": {},
   "outputs": [],
   "source": [
    "# Ваш код"
   ]
  },
  {
   "cell_type": "markdown",
   "id": "92dfdde4-2e3f-492b-b2b2-97f21a4f5477",
   "metadata": {},
   "source": [
    "Найдите первое вхождение имени `Пьер` в этом тексте. Выведите в каком контексте оно первый раз используется: "
   ]
  },
  {
   "cell_type": "code",
   "execution_count": null,
   "id": "82d9090a-472e-4a00-a557-424659f498ab",
   "metadata": {},
   "outputs": [],
   "source": [
    "# Ваш код"
   ]
  },
  {
   "cell_type": "markdown",
   "id": "dca539c2-a2c9-4433-a96f-06b61275a77f",
   "metadata": {},
   "source": [
    "✨ Метод `.find()` ищет только первое вхождение нужный нам подстроки. Найдите все вхождения подстроки `Пьер` в тексте Войны и мира:"
   ]
  },
  {
   "cell_type": "code",
   "execution_count": null,
   "id": "a71dddba-469b-4a8a-8fac-f06c0bd90c70",
   "metadata": {},
   "outputs": [],
   "source": [
    "# Ваш код"
   ]
  },
  {
   "cell_type": "markdown",
   "id": "aa064d52-e7b6-4b9a-8b89-b0267e80cc8a",
   "metadata": {},
   "source": [
    "✨✨✨✨ Используя полученные знания, найдите самое часто встречающееся слово в тексте:"
   ]
  },
  {
   "cell_type": "code",
   "execution_count": null,
   "id": "baf5b98b-c3a3-4f7e-9420-7b6c3d2e8372",
   "metadata": {},
   "outputs": [],
   "source": [
    "# Ваш код"
   ]
  }
 ],
 "metadata": {
  "kernelspec": {
   "display_name": "Python 3 (ipykernel)",
   "language": "python",
   "name": "python3"
  },
  "language_info": {
   "codemirror_mode": {
    "name": "ipython",
    "version": 3
   },
   "file_extension": ".py",
   "mimetype": "text/x-python",
   "name": "python",
   "nbconvert_exporter": "python",
   "pygments_lexer": "ipython3",
   "version": "3.10.13"
  }
 },
 "nbformat": 4,
 "nbformat_minor": 5
}
